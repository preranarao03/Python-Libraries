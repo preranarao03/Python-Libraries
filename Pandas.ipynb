{
 "cells": [
  {
   "cell_type": "markdown",
   "id": "4a79c252-b962-40fc-9da0-e2a25b3ae5da",
   "metadata": {},
   "source": [
    "## Pandas"
   ]
  },
  {
   "cell_type": "code",
   "execution_count": 1,
   "id": "68416f00-57df-4781-959c-e8e8767591a7",
   "metadata": {},
   "outputs": [],
   "source": [
    "import pandas as pd\n",
    "import numpy as np"
   ]
  },
  {
   "cell_type": "markdown",
   "id": "b238a09d-b0eb-4438-a7d2-e1e9e93f7630",
   "metadata": {},
   "source": [
    "## creating a dataframe using a dictionary"
   ]
  },
  {
   "cell_type": "code",
   "execution_count": 2,
   "id": "9899b100-9dac-47be-901b-c52e2c421259",
   "metadata": {},
   "outputs": [],
   "source": [
    "## create a dataframe using a dictionary\n",
    "cars_per_cap = [100,234,354,421,235]\n",
    "country = ['india', 'usa', 'canada', 'russia', 'china']\n",
    "drives_right = [True, False, False, False, True]"
   ]
  },
  {
   "cell_type": "code",
   "execution_count": 3,
   "id": "8925bd17-3273-486c-aa16-a9cb9ab73575",
   "metadata": {},
   "outputs": [
    {
     "data": {
      "text/plain": [
       "{'cars_per_cap': [100, 234, 354, 421, 235],\n",
       " 'country': ['india', 'usa', 'canada', 'russia', 'china'],\n",
       " 'drives_right': [True, False, False, False, True]}"
      ]
     },
     "execution_count": 3,
     "metadata": {},
     "output_type": "execute_result"
    }
   ],
   "source": [
    "dic = {\"cars_per_cap\" : cars_per_cap,\n",
    "       \"country\" : country,\n",
    "       \"drives_right\" : drives_right}\n",
    "dic "
   ]
  },
  {
   "cell_type": "code",
   "execution_count": 4,
   "id": "6d8cffc1-c40d-4ff2-8ab2-30715905e8d9",
   "metadata": {},
   "outputs": [
    {
     "data": {
      "text/html": [
       "<div>\n",
       "<style scoped>\n",
       "    .dataframe tbody tr th:only-of-type {\n",
       "        vertical-align: middle;\n",
       "    }\n",
       "\n",
       "    .dataframe tbody tr th {\n",
       "        vertical-align: top;\n",
       "    }\n",
       "\n",
       "    .dataframe thead th {\n",
       "        text-align: right;\n",
       "    }\n",
       "</style>\n",
       "<table border=\"1\" class=\"dataframe\">\n",
       "  <thead>\n",
       "    <tr style=\"text-align: right;\">\n",
       "      <th></th>\n",
       "      <th>cars_per_cap</th>\n",
       "      <th>country</th>\n",
       "      <th>drives_right</th>\n",
       "    </tr>\n",
       "  </thead>\n",
       "  <tbody>\n",
       "    <tr>\n",
       "      <th>0</th>\n",
       "      <td>100</td>\n",
       "      <td>india</td>\n",
       "      <td>True</td>\n",
       "    </tr>\n",
       "    <tr>\n",
       "      <th>1</th>\n",
       "      <td>234</td>\n",
       "      <td>usa</td>\n",
       "      <td>False</td>\n",
       "    </tr>\n",
       "    <tr>\n",
       "      <th>2</th>\n",
       "      <td>354</td>\n",
       "      <td>canada</td>\n",
       "      <td>False</td>\n",
       "    </tr>\n",
       "    <tr>\n",
       "      <th>3</th>\n",
       "      <td>421</td>\n",
       "      <td>russia</td>\n",
       "      <td>False</td>\n",
       "    </tr>\n",
       "    <tr>\n",
       "      <th>4</th>\n",
       "      <td>235</td>\n",
       "      <td>china</td>\n",
       "      <td>True</td>\n",
       "    </tr>\n",
       "  </tbody>\n",
       "</table>\n",
       "</div>"
      ],
      "text/plain": [
       "   cars_per_cap country  drives_right\n",
       "0           100   india          True\n",
       "1           234     usa         False\n",
       "2           354  canada         False\n",
       "3           421  russia         False\n",
       "4           235   china          True"
      ]
     },
     "execution_count": 4,
     "metadata": {},
     "output_type": "execute_result"
    }
   ],
   "source": [
    "df = pd.DataFrame(dic)\n",
    "df"
   ]
  },
  {
   "cell_type": "markdown",
   "id": "29d22aac-4b94-4e66-a5bb-ea5878d2fa5f",
   "metadata": {},
   "source": [
    "## creating a dataframe using a csv file with no column/header names"
   ]
  },
  {
   "cell_type": "code",
   "execution_count": 5,
   "id": "076e2914-0216-41a3-bade-b875cc3a8082",
   "metadata": {},
   "outputs": [
    {
     "data": {
      "text/html": [
       "<div>\n",
       "<style scoped>\n",
       "    .dataframe tbody tr th:only-of-type {\n",
       "        vertical-align: middle;\n",
       "    }\n",
       "\n",
       "    .dataframe tbody tr th {\n",
       "        vertical-align: top;\n",
       "    }\n",
       "\n",
       "    .dataframe thead th {\n",
       "        text-align: right;\n",
       "    }\n",
       "</style>\n",
       "<table border=\"1\" class=\"dataframe\">\n",
       "  <thead>\n",
       "    <tr style=\"text-align: right;\">\n",
       "      <th></th>\n",
       "      <th>0</th>\n",
       "      <th>1</th>\n",
       "      <th>2</th>\n",
       "      <th>3</th>\n",
       "      <th>4</th>\n",
       "    </tr>\n",
       "  </thead>\n",
       "  <tbody>\n",
       "    <tr>\n",
       "      <th>0</th>\n",
       "      <td>USCA</td>\n",
       "      <td>US</td>\n",
       "      <td>United States</td>\n",
       "      <td>809.0</td>\n",
       "      <td>False</td>\n",
       "    </tr>\n",
       "    <tr>\n",
       "      <th>1</th>\n",
       "      <td>ASPAC</td>\n",
       "      <td>AUS</td>\n",
       "      <td>Austrailia</td>\n",
       "      <td>731.0</td>\n",
       "      <td>True</td>\n",
       "    </tr>\n",
       "    <tr>\n",
       "      <th>2</th>\n",
       "      <td>ASPAC</td>\n",
       "      <td>JAP</td>\n",
       "      <td>Japan</td>\n",
       "      <td>588.0</td>\n",
       "      <td>True</td>\n",
       "    </tr>\n",
       "    <tr>\n",
       "      <th>3</th>\n",
       "      <td>ASPAC</td>\n",
       "      <td>IN</td>\n",
       "      <td>India</td>\n",
       "      <td>18.0</td>\n",
       "      <td>True</td>\n",
       "    </tr>\n",
       "    <tr>\n",
       "      <th>4</th>\n",
       "      <td>ASPAC</td>\n",
       "      <td>RU</td>\n",
       "      <td>Russia</td>\n",
       "      <td>200.0</td>\n",
       "      <td>False</td>\n",
       "    </tr>\n",
       "    <tr>\n",
       "      <th>5</th>\n",
       "      <td>LATAM</td>\n",
       "      <td>MOR</td>\n",
       "      <td>Morocco</td>\n",
       "      <td>70.0</td>\n",
       "      <td>False</td>\n",
       "    </tr>\n",
       "    <tr>\n",
       "      <th>6</th>\n",
       "      <td>AFR</td>\n",
       "      <td>EG</td>\n",
       "      <td>Egypt</td>\n",
       "      <td>45.0</td>\n",
       "      <td>False</td>\n",
       "    </tr>\n",
       "    <tr>\n",
       "      <th>7</th>\n",
       "      <td>EUR</td>\n",
       "      <td>ENG</td>\n",
       "      <td>England</td>\n",
       "      <td>NaN</td>\n",
       "      <td>True</td>\n",
       "    </tr>\n",
       "  </tbody>\n",
       "</table>\n",
       "</div>"
      ],
      "text/plain": [
       "       0    1              2      3       4\n",
       "0   USCA   US  United States  809.0  False \n",
       "1  ASPAC  AUS     Austrailia  731.0   True \n",
       "2  ASPAC  JAP          Japan  588.0   True \n",
       "3  ASPAC   IN          India   18.0   True \n",
       "4  ASPAC   RU         Russia  200.0  False \n",
       "5  LATAM  MOR        Morocco   70.0  False \n",
       "6    AFR   EG          Egypt   45.0  False \n",
       "7    EUR  ENG        England    NaN   True "
      ]
     },
     "execution_count": 5,
     "metadata": {},
     "output_type": "execute_result"
    }
   ],
   "source": [
    "df1 = pd.read_csv('C:/Users/saksh/OneDrive/Documents/Python Libraries/Pandas/book1.csv', header = None)\n",
    "df1"
   ]
  },
  {
   "cell_type": "markdown",
   "id": "e938e483-1605-4328-8964-faa275ff9457",
   "metadata": {},
   "source": [
    "# renaming the column names/headers using columns function"
   ]
  },
  {
   "cell_type": "code",
   "execution_count": 6,
   "id": "277c7cc0-ca15-4b55-b459-3b2eb2c29ae2",
   "metadata": {
    "scrolled": true
   },
   "outputs": [
    {
     "name": "stdout",
     "output_type": "stream",
     "text": [
      "  country code region        country  cars_per_cap drives_right\n",
      "0         USCA     US  United States         809.0       False \n",
      "1        ASPAC    AUS     Austrailia         731.0        True \n",
      "2        ASPAC    JAP          Japan         588.0        True \n",
      "3        ASPAC     IN          India          18.0        True \n",
      "4        ASPAC     RU         Russia         200.0       False \n",
      "5        LATAM    MOR        Morocco          70.0       False \n",
      "6          AFR     EG          Egypt          45.0       False \n",
      "7          EUR    ENG        England           NaN        True \n",
      "<class 'pandas.core.frame.DataFrame'>\n"
     ]
    }
   ],
   "source": [
    "df1.columns = ['country code','region', 'country', 'cars_per_cap', 'drives_right']\n",
    "print(df1)\n",
    "print(type(df1))"
   ]
  },
  {
   "cell_type": "markdown",
   "id": "692ee32f-feb5-4cf9-a3e9-1cb10f4d47b4",
   "metadata": {},
   "source": [
    "## checking how many indices/rows are there"
   ]
  },
  {
   "cell_type": "code",
   "execution_count": 7,
   "id": "a36922dd-a906-4da6-bcbf-2a2edf4be7d6",
   "metadata": {},
   "outputs": [
    {
     "data": {
      "text/plain": [
       "RangeIndex(start=0, stop=8, step=1)"
      ]
     },
     "execution_count": 7,
     "metadata": {},
     "output_type": "execute_result"
    }
   ],
   "source": [
    "df1.index"
   ]
  },
  {
   "cell_type": "markdown",
   "id": "a95718b5-dc53-4a91-8348-af1ae8616b03",
   "metadata": {},
   "source": [
    "## setting a single column or multiple columns as the index column\n",
    "index_col = column number which you want to set as index column"
   ]
  },
  {
   "cell_type": "code",
   "execution_count": 12,
   "id": "13c93fe4-c245-4905-9326-9fd3557ca37d",
   "metadata": {},
   "outputs": [
    {
     "data": {
      "text/html": [
       "<div>\n",
       "<style scoped>\n",
       "    .dataframe tbody tr th:only-of-type {\n",
       "        vertical-align: middle;\n",
       "    }\n",
       "\n",
       "    .dataframe tbody tr th {\n",
       "        vertical-align: top;\n",
       "    }\n",
       "\n",
       "    .dataframe thead th {\n",
       "        text-align: right;\n",
       "    }\n",
       "</style>\n",
       "<table border=\"1\" class=\"dataframe\">\n",
       "  <thead>\n",
       "    <tr style=\"text-align: right;\">\n",
       "      <th></th>\n",
       "      <th>0</th>\n",
       "      <th>1</th>\n",
       "      <th>2</th>\n",
       "      <th>4</th>\n",
       "    </tr>\n",
       "    <tr>\n",
       "      <th>3</th>\n",
       "      <th></th>\n",
       "      <th></th>\n",
       "      <th></th>\n",
       "      <th></th>\n",
       "    </tr>\n",
       "  </thead>\n",
       "  <tbody>\n",
       "    <tr>\n",
       "      <th>809.0</th>\n",
       "      <td>USCA</td>\n",
       "      <td>US</td>\n",
       "      <td>United States</td>\n",
       "      <td>False</td>\n",
       "    </tr>\n",
       "    <tr>\n",
       "      <th>731.0</th>\n",
       "      <td>ASPAC</td>\n",
       "      <td>AUS</td>\n",
       "      <td>Austrailia</td>\n",
       "      <td>True</td>\n",
       "    </tr>\n",
       "    <tr>\n",
       "      <th>588.0</th>\n",
       "      <td>ASPAC</td>\n",
       "      <td>JAP</td>\n",
       "      <td>Japan</td>\n",
       "      <td>True</td>\n",
       "    </tr>\n",
       "    <tr>\n",
       "      <th>18.0</th>\n",
       "      <td>ASPAC</td>\n",
       "      <td>IN</td>\n",
       "      <td>India</td>\n",
       "      <td>True</td>\n",
       "    </tr>\n",
       "    <tr>\n",
       "      <th>200.0</th>\n",
       "      <td>ASPAC</td>\n",
       "      <td>RU</td>\n",
       "      <td>Russia</td>\n",
       "      <td>False</td>\n",
       "    </tr>\n",
       "    <tr>\n",
       "      <th>70.0</th>\n",
       "      <td>LATAM</td>\n",
       "      <td>MOR</td>\n",
       "      <td>Morocco</td>\n",
       "      <td>False</td>\n",
       "    </tr>\n",
       "    <tr>\n",
       "      <th>45.0</th>\n",
       "      <td>AFR</td>\n",
       "      <td>EG</td>\n",
       "      <td>Egypt</td>\n",
       "      <td>False</td>\n",
       "    </tr>\n",
       "    <tr>\n",
       "      <th>NaN</th>\n",
       "      <td>EUR</td>\n",
       "      <td>ENG</td>\n",
       "      <td>England</td>\n",
       "      <td>True</td>\n",
       "    </tr>\n",
       "  </tbody>\n",
       "</table>\n",
       "</div>"
      ],
      "text/plain": [
       "           0    1              2       4\n",
       "3                                       \n",
       "809.0   USCA   US  United States  False \n",
       "731.0  ASPAC  AUS     Austrailia   True \n",
       "588.0  ASPAC  JAP          Japan   True \n",
       "18.0   ASPAC   IN          India   True \n",
       "200.0  ASPAC   RU         Russia  False \n",
       "70.0   LATAM  MOR        Morocco  False \n",
       "45.0     AFR   EG          Egypt  False \n",
       "NaN      EUR  ENG        England   True "
      ]
     },
     "execution_count": 12,
     "metadata": {},
     "output_type": "execute_result"
    }
   ],
   "source": [
    "df1 = pd.read_csv('C:/Users/saksh/OneDrive/Documents/Python Libraries/Pandas/book2.csv', header = None, index_col = 3)\n",
    "df1"
   ]
  },
  {
   "cell_type": "code",
   "execution_count": 20,
   "id": "3185d70f-36c6-45c8-9217-a439df8df83b",
   "metadata": {},
   "outputs": [
    {
     "data": {
      "text/html": [
       "<div>\n",
       "<style scoped>\n",
       "    .dataframe tbody tr th:only-of-type {\n",
       "        vertical-align: middle;\n",
       "    }\n",
       "\n",
       "    .dataframe tbody tr th {\n",
       "        vertical-align: top;\n",
       "    }\n",
       "\n",
       "    .dataframe thead th {\n",
       "        text-align: right;\n",
       "    }\n",
       "</style>\n",
       "<table border=\"1\" class=\"dataframe\">\n",
       "  <thead>\n",
       "    <tr style=\"text-align: right;\">\n",
       "      <th></th>\n",
       "      <th></th>\n",
       "      <th>2</th>\n",
       "      <th>3</th>\n",
       "      <th>4</th>\n",
       "    </tr>\n",
       "    <tr>\n",
       "      <th>0</th>\n",
       "      <th>1</th>\n",
       "      <th></th>\n",
       "      <th></th>\n",
       "      <th></th>\n",
       "    </tr>\n",
       "  </thead>\n",
       "  <tbody>\n",
       "    <tr>\n",
       "      <th>USCA</th>\n",
       "      <th>US</th>\n",
       "      <td>United States</td>\n",
       "      <td>809.0</td>\n",
       "      <td>False</td>\n",
       "    </tr>\n",
       "    <tr>\n",
       "      <th rowspan=\"4\" valign=\"top\">ASPAC</th>\n",
       "      <th>AUS</th>\n",
       "      <td>Austrailia</td>\n",
       "      <td>731.0</td>\n",
       "      <td>True</td>\n",
       "    </tr>\n",
       "    <tr>\n",
       "      <th>JAP</th>\n",
       "      <td>Japan</td>\n",
       "      <td>588.0</td>\n",
       "      <td>True</td>\n",
       "    </tr>\n",
       "    <tr>\n",
       "      <th>IN</th>\n",
       "      <td>India</td>\n",
       "      <td>18.0</td>\n",
       "      <td>True</td>\n",
       "    </tr>\n",
       "    <tr>\n",
       "      <th>RU</th>\n",
       "      <td>Russia</td>\n",
       "      <td>200.0</td>\n",
       "      <td>False</td>\n",
       "    </tr>\n",
       "    <tr>\n",
       "      <th>LATAM</th>\n",
       "      <th>MOR</th>\n",
       "      <td>Morocco</td>\n",
       "      <td>70.0</td>\n",
       "      <td>False</td>\n",
       "    </tr>\n",
       "    <tr>\n",
       "      <th>AFR</th>\n",
       "      <th>EG</th>\n",
       "      <td>Egypt</td>\n",
       "      <td>45.0</td>\n",
       "      <td>False</td>\n",
       "    </tr>\n",
       "    <tr>\n",
       "      <th>EUR</th>\n",
       "      <th>ENG</th>\n",
       "      <td>England</td>\n",
       "      <td>NaN</td>\n",
       "      <td>True</td>\n",
       "    </tr>\n",
       "  </tbody>\n",
       "</table>\n",
       "</div>"
      ],
      "text/plain": [
       "                       2      3       4\n",
       "0     1                                \n",
       "USCA  US   United States  809.0  False \n",
       "ASPAC AUS     Austrailia  731.0   True \n",
       "      JAP          Japan  588.0   True \n",
       "      IN           India   18.0   True \n",
       "      RU          Russia  200.0  False \n",
       "LATAM MOR        Morocco   70.0  False \n",
       "AFR   EG           Egypt   45.0  False \n",
       "EUR   ENG        England    NaN   True "
      ]
     },
     "execution_count": 20,
     "metadata": {},
     "output_type": "execute_result"
    }
   ],
   "source": [
    "df2 = pd.read_csv('C:/Users/saksh/OneDrive/Documents/Python Libraries/Pandas/book2.csv', header = None, index_col = [0,1])\n",
    "df2"
   ]
  },
  {
   "cell_type": "code",
   "execution_count": 14,
   "id": "885f66db-9931-4801-a98e-6f2e0b049936",
   "metadata": {},
   "outputs": [
    {
     "data": {
      "text/html": [
       "<div>\n",
       "<style scoped>\n",
       "    .dataframe tbody tr th:only-of-type {\n",
       "        vertical-align: middle;\n",
       "    }\n",
       "\n",
       "    .dataframe tbody tr th {\n",
       "        vertical-align: top;\n",
       "    }\n",
       "\n",
       "    .dataframe thead th {\n",
       "        text-align: right;\n",
       "    }\n",
       "</style>\n",
       "<table border=\"1\" class=\"dataframe\">\n",
       "  <thead>\n",
       "    <tr style=\"text-align: right;\">\n",
       "      <th></th>\n",
       "      <th>country code</th>\n",
       "      <th>region</th>\n",
       "      <th>country</th>\n",
       "      <th>drives_right</th>\n",
       "    </tr>\n",
       "    <tr>\n",
       "      <th>3</th>\n",
       "      <th></th>\n",
       "      <th></th>\n",
       "      <th></th>\n",
       "      <th></th>\n",
       "    </tr>\n",
       "  </thead>\n",
       "  <tbody>\n",
       "    <tr>\n",
       "      <th>809.0</th>\n",
       "      <td>USCA</td>\n",
       "      <td>US</td>\n",
       "      <td>United States</td>\n",
       "      <td>False</td>\n",
       "    </tr>\n",
       "    <tr>\n",
       "      <th>731.0</th>\n",
       "      <td>ASPAC</td>\n",
       "      <td>AUS</td>\n",
       "      <td>Austrailia</td>\n",
       "      <td>True</td>\n",
       "    </tr>\n",
       "    <tr>\n",
       "      <th>588.0</th>\n",
       "      <td>ASPAC</td>\n",
       "      <td>JAP</td>\n",
       "      <td>Japan</td>\n",
       "      <td>True</td>\n",
       "    </tr>\n",
       "    <tr>\n",
       "      <th>18.0</th>\n",
       "      <td>ASPAC</td>\n",
       "      <td>IN</td>\n",
       "      <td>India</td>\n",
       "      <td>True</td>\n",
       "    </tr>\n",
       "    <tr>\n",
       "      <th>200.0</th>\n",
       "      <td>ASPAC</td>\n",
       "      <td>RU</td>\n",
       "      <td>Russia</td>\n",
       "      <td>False</td>\n",
       "    </tr>\n",
       "    <tr>\n",
       "      <th>70.0</th>\n",
       "      <td>LATAM</td>\n",
       "      <td>MOR</td>\n",
       "      <td>Morocco</td>\n",
       "      <td>False</td>\n",
       "    </tr>\n",
       "    <tr>\n",
       "      <th>45.0</th>\n",
       "      <td>AFR</td>\n",
       "      <td>EG</td>\n",
       "      <td>Egypt</td>\n",
       "      <td>False</td>\n",
       "    </tr>\n",
       "    <tr>\n",
       "      <th>NaN</th>\n",
       "      <td>EUR</td>\n",
       "      <td>ENG</td>\n",
       "      <td>England</td>\n",
       "      <td>True</td>\n",
       "    </tr>\n",
       "  </tbody>\n",
       "</table>\n",
       "</div>"
      ],
      "text/plain": [
       "      country code region        country drives_right\n",
       "3                                                    \n",
       "809.0         USCA     US  United States       False \n",
       "731.0        ASPAC    AUS     Austrailia        True \n",
       "588.0        ASPAC    JAP          Japan        True \n",
       "18.0         ASPAC     IN          India        True \n",
       "200.0        ASPAC     RU         Russia       False \n",
       "70.0         LATAM    MOR        Morocco       False \n",
       "45.0           AFR     EG          Egypt       False \n",
       "NaN            EUR    ENG        England        True "
      ]
     },
     "execution_count": 14,
     "metadata": {},
     "output_type": "execute_result"
    }
   ],
   "source": [
    "df1.columns = ['country code', 'region','country', 'drives_right']\n",
    "df1"
   ]
  },
  {
   "cell_type": "code",
   "execution_count": 15,
   "id": "421dda6f-f0db-436b-9087-40940438e924",
   "metadata": {},
   "outputs": [
    {
     "data": {
      "text/plain": [
       "Index([809.0, 731.0, 588.0, 18.0, 200.0, 70.0, 45.0, nan], dtype='float64', name=3)"
      ]
     },
     "execution_count": 15,
     "metadata": {},
     "output_type": "execute_result"
    }
   ],
   "source": [
    "df1.index"
   ]
  },
  {
   "cell_type": "markdown",
   "id": "48709bc0-c0e0-4b12-bc97-752d81e03c52",
   "metadata": {},
   "source": [
    "## rename/delete the name of the index column"
   ]
  },
  {
   "cell_type": "code",
   "execution_count": 19,
   "id": "ae90bbba-cf57-42d9-a585-3a9571af0903",
   "metadata": {},
   "outputs": [
    {
     "name": "stdout",
     "output_type": "stream",
     "text": [
      "             country code region        country drives_right\n",
      "cars_per_cap                                                \n",
      "809.0                USCA     US  United States       False \n",
      "731.0               ASPAC    AUS     Austrailia        True \n",
      "588.0               ASPAC    JAP          Japan        True \n",
      "18.0                ASPAC     IN          India        True \n",
      "200.0               ASPAC     RU         Russia       False \n",
      "70.0                LATAM    MOR        Morocco       False \n",
      "45.0                  AFR     EG          Egypt       False \n",
      "NaN                   EUR    ENG        England        True \n",
      "      country code region        country drives_right\n",
      "809.0         USCA     US  United States       False \n",
      "731.0        ASPAC    AUS     Austrailia        True \n",
      "588.0        ASPAC    JAP          Japan        True \n",
      "18.0         ASPAC     IN          India        True \n",
      "200.0        ASPAC     RU         Russia       False \n",
      "70.0         LATAM    MOR        Morocco       False \n",
      "45.0           AFR     EG          Egypt       False \n",
      "NaN            EUR    ENG        England        True \n"
     ]
    }
   ],
   "source": [
    "df1.index.name = 'cars_per_cap' # rename\n",
    "print(df1)\n",
    "\n",
    "df1.index.name = None # delete\n",
    "print(df1)\n"
   ]
  },
  {
   "cell_type": "markdown",
   "id": "8d8eafad-60be-4d11-90fe-6456b7622269",
   "metadata": {},
   "source": [
    "## display first 3 rows and last 3 rows of the dataset"
   ]
  },
  {
   "cell_type": "code",
   "execution_count": 23,
   "id": "6a5b3348-2fef-4bb0-807a-ec238f0a9a16",
   "metadata": {},
   "outputs": [
    {
     "name": "stdout",
     "output_type": "stream",
     "text": [
      "      country code region        country drives_right\n",
      "809.0         USCA     US  United States       False \n",
      "731.0        ASPAC    AUS     Austrailia        True \n",
      "588.0        ASPAC    JAP          Japan        True \n",
      "     country code region  country drives_right\n",
      "70.0        LATAM    MOR  Morocco       False \n",
      "45.0          AFR     EG    Egypt       False \n",
      "NaN           EUR    ENG  England        True \n"
     ]
    }
   ],
   "source": [
    "print(df1.head(3))\n",
    "print(df1.tail(3))"
   ]
  },
  {
   "cell_type": "markdown",
   "id": "b7676c14-7b25-4628-bdf2-156ab5373dea",
   "metadata": {},
   "source": [
    "## display the information about the data stored in the dataframe"
   ]
  },
  {
   "cell_type": "code",
   "execution_count": 24,
   "id": "6ef4a363-b8ba-4376-a9f0-a8f44dbe2983",
   "metadata": {},
   "outputs": [
    {
     "name": "stdout",
     "output_type": "stream",
     "text": [
      "<class 'pandas.core.frame.DataFrame'>\n",
      "Index: 8 entries, 809.0 to nan\n",
      "Data columns (total 4 columns):\n",
      " #   Column        Non-Null Count  Dtype \n",
      "---  ------        --------------  ----- \n",
      " 0   country code  8 non-null      object\n",
      " 1   region        8 non-null      object\n",
      " 2   country       8 non-null      object\n",
      " 3   drives_right  8 non-null      object\n",
      "dtypes: object(4)\n",
      "memory usage: 320.0+ bytes\n"
     ]
    }
   ],
   "source": [
    "df1.info()"
   ]
  },
  {
   "cell_type": "markdown",
   "id": "9df3bf63-07e7-4349-81c6-474151d4fcec",
   "metadata": {},
   "source": [
    "## display the statistical information of the dataset"
   ]
  },
  {
   "cell_type": "code",
   "execution_count": 25,
   "id": "c5b5d119-4826-468e-bb6e-bcfe712d2cf0",
   "metadata": {},
   "outputs": [
    {
     "name": "stdout",
     "output_type": "stream",
     "text": [
      "       country code region        country drives_right\n",
      "count             8      8              8            8\n",
      "unique            5      8              8            2\n",
      "top           ASPAC     US  United States       False \n",
      "freq              4      1              1            4\n"
     ]
    }
   ],
   "source": [
    "print(df1.describe()) # for the whole dataset"
   ]
  },
  {
   "cell_type": "code",
   "execution_count": 29,
   "id": "33b652c1-5290-4481-bac8-78d6f43db55c",
   "metadata": {},
   "outputs": [
    {
     "data": {
      "text/plain": [
       "809.0     US\n",
       "731.0    AUS\n",
       "588.0    JAP\n",
       "18.0      IN\n",
       "200.0     RU\n",
       "70.0     MOR\n",
       "45.0      EG\n",
       "NaN      ENG\n",
       "Name: region, dtype: object"
      ]
     },
     "execution_count": 29,
     "metadata": {},
     "output_type": "execute_result"
    }
   ],
   "source": [
    "df1['region'] # for indivisual column"
   ]
  },
  {
   "cell_type": "markdown",
   "id": "33490af6-0b77-4199-8cfd-6cd411e4fba5",
   "metadata": {},
   "source": [
    "## Note : iloc uses index number/name and loc uses row name or column name"
   ]
  },
  {
   "cell_type": "markdown",
   "id": "72a7afd4-1289-4864-bc2b-c14a0424eeeb",
   "metadata": {},
   "source": [
    "## access specific data from their row index - iloc"
   ]
  },
  {
   "cell_type": "code",
   "execution_count": 31,
   "id": "33ae522b-ee26-46e2-b07c-a17b900ef3ca",
   "metadata": {},
   "outputs": [
    {
     "data": {
      "text/plain": [
       "country code       AFR\n",
       "region              EG\n",
       "country          Egypt\n",
       "drives_right    False \n",
       "Name: 45.0, dtype: object"
      ]
     },
     "execution_count": 31,
     "metadata": {},
     "output_type": "execute_result"
    }
   ],
   "source": [
    "df1.iloc[6] "
   ]
  },
  {
   "cell_type": "markdown",
   "id": "8f68a44c-459b-4b27-bfe3-e0dced6b563a",
   "metadata": {},
   "source": [
    "## access specific data based on their index name/number - loc"
   ]
  },
  {
   "cell_type": "code",
   "execution_count": 40,
   "id": "f057a966-8a56-4927-804d-a274e6b34cd2",
   "metadata": {},
   "outputs": [
    {
     "data": {
      "text/plain": [
       "country code     ASPAC\n",
       "region              RU\n",
       "country         Russia\n",
       "drives_right    False \n",
       "Name: 200.0, dtype: object"
      ]
     },
     "execution_count": 40,
     "metadata": {},
     "output_type": "execute_result"
    }
   ],
   "source": [
    "df1.loc[200]"
   ]
  },
  {
   "cell_type": "markdown",
   "id": "768c646a-9210-47ee-8b0a-2f9a91232320",
   "metadata": {},
   "source": [
    "## display multiple selective columns together - direct way or iloc way or loc way"
   ]
  },
  {
   "cell_type": "code",
   "execution_count": 41,
   "id": "587497b9-d464-450e-98e3-14b3bfe1bc09",
   "metadata": {},
   "outputs": [
    {
     "name": "stdout",
     "output_type": "stream",
     "text": [
      "      country code        country\n",
      "809.0         USCA  United States\n",
      "731.0        ASPAC     Austrailia\n",
      "588.0        ASPAC          Japan\n",
      "18.0         ASPAC          India\n",
      "200.0        ASPAC         Russia\n",
      "70.0         LATAM        Morocco\n",
      "45.0           AFR          Egypt\n",
      "NaN            EUR        England\n",
      "      country code drives_right\n",
      "809.0         USCA       False \n",
      "731.0        ASPAC        True \n",
      "588.0        ASPAC        True \n",
      "18.0         ASPAC        True \n",
      "200.0        ASPAC       False \n",
      "70.0         LATAM       False \n",
      "45.0           AFR       False \n",
      "NaN            EUR        True \n",
      "             country country code\n",
      "809.0  United States         USCA\n",
      "731.0     Austrailia        ASPAC\n",
      "588.0          Japan        ASPAC\n",
      "18.0           India        ASPAC\n",
      "200.0         Russia        ASPAC\n",
      "70.0         Morocco        LATAM\n",
      "45.0           Egypt          AFR\n",
      "NaN          England          EUR\n"
     ]
    }
   ],
   "source": [
    "print(df1[['country code','country']])\n",
    "# or\n",
    "print(df1.iloc[: ,[0,3]]) # displays all rows of 0th and 3rd column of the dataset\n",
    "# or\n",
    "print(df1.loc[: , ['country','country code']]) # displays all rows of the country and country code columns"
   ]
  },
  {
   "cell_type": "code",
   "execution_count": null,
   "id": "4b5903c0-7d3c-4385-bb82-6ee706bbf4c9",
   "metadata": {},
   "outputs": [],
   "source": []
  }
 ],
 "metadata": {
  "kernelspec": {
   "display_name": "Python 3 (ipykernel)",
   "language": "python",
   "name": "python3"
  },
  "language_info": {
   "codemirror_mode": {
    "name": "ipython",
    "version": 3
   },
   "file_extension": ".py",
   "mimetype": "text/x-python",
   "name": "python",
   "nbconvert_exporter": "python",
   "pygments_lexer": "ipython3",
   "version": "3.11.4"
  }
 },
 "nbformat": 4,
 "nbformat_minor": 5
}
