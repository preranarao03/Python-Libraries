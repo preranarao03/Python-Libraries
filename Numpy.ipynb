{
 "cells": [
  {
   "cell_type": "markdown",
   "id": "7f8f7648-1172-4ede-80e0-e6bcdc9c458c",
   "metadata": {},
   "source": [
    "## Numpy"
   ]
  },
  {
   "cell_type": "markdown",
   "id": "b41854ea-cf3b-43a3-bb6d-d290042d6da6",
   "metadata": {},
   "source": [
    "## converting a list to an array"
   ]
  },
  {
   "cell_type": "code",
   "execution_count": 1,
   "id": "78898723-2031-4a0f-8e05-ddd60ff598d5",
   "metadata": {},
   "outputs": [
    {
     "data": {
      "text/plain": [
       "array([12, 45, 23, 78])"
      ]
     },
     "execution_count": 1,
     "metadata": {},
     "output_type": "execute_result"
    }
   ],
   "source": [
    "import numpy as np\n",
    "\n",
    "list_example = [12,45,23,78]\n",
    "\n",
    "array = np.array(list_example)\n",
    "array"
   ]
  },
  {
   "cell_type": "markdown",
   "id": "7f22a127-32a5-48bf-8080-27d781e61efa",
   "metadata": {},
   "source": [
    "## checking the datatype using type function"
   ]
  },
  {
   "cell_type": "code",
   "execution_count": 2,
   "id": "b6f62d7c-ba8f-421e-8f7e-6397044448cf",
   "metadata": {},
   "outputs": [
    {
     "data": {
      "text/plain": [
       "numpy.ndarray"
      ]
     },
     "execution_count": 2,
     "metadata": {},
     "output_type": "execute_result"
    }
   ],
   "source": [
    "type(array)"
   ]
  },
  {
   "cell_type": "markdown",
   "id": "64a6f675-242d-4f94-bec5-103a4a0ddf04",
   "metadata": {},
   "source": [
    "## mathematical operations can be applied on arrays\n",
    "   addition of lists give concatenation while addition of arrays give addition"
   ]
  },
  {
   "cell_type": "code",
   "execution_count": 3,
   "id": "47634cef-bbba-4b2b-880d-f0c4c5b0fca1",
   "metadata": {},
   "outputs": [
    {
     "data": {
      "text/plain": [
       "array([ 30.48, 114.3 ,  58.42, 198.12])"
      ]
     },
     "execution_count": 3,
     "metadata": {},
     "output_type": "execute_result"
    }
   ],
   "source": [
    "array*2.54"
   ]
  },
  {
   "cell_type": "code",
   "execution_count": 4,
   "id": "6c9fbda3-5018-400c-8d14-7c5b5cd4d192",
   "metadata": {},
   "outputs": [
    {
     "name": "stdout",
     "output_type": "stream",
     "text": [
      "[1, 2, 3, 4, 5, 6]\n",
      "[5 7 9]\n"
     ]
    }
   ],
   "source": [
    "# addition operation\n",
    "\n",
    "#list concatenates\n",
    "list1 = [1,2,3]\n",
    "list2 = [4,5,6]\n",
    "print(list1 + list2)\n",
    "\n",
    "#array performs addition\n",
    "array1 = np.array(list1)\n",
    "array2 = np.array(list2)\n",
    "print(array1 + array2)"
   ]
  },
  {
   "cell_type": "markdown",
   "id": "6660e0fa-c069-4932-81b0-b0b85547f039",
   "metadata": {},
   "source": [
    "## shape, dimension and datatype"
   ]
  },
  {
   "cell_type": "code",
   "execution_count": 5,
   "id": "b5a2b813-0331-4968-aa7d-1023522a53c5",
   "metadata": {},
   "outputs": [
    {
     "name": "stdout",
     "output_type": "stream",
     "text": [
      "180\n",
      "4\n",
      "[[ 63 169]\n",
      " [ 70 189]\n",
      " [ 86 180]\n",
      " [ 45 130]]\n",
      "(4, 2)\n",
      "2\n",
      "int32\n"
     ]
    }
   ],
   "source": [
    "# tuple that contains weight and height of players - \n",
    "players = [(63,169), (70,189), (86,180), (45,130)]\n",
    "print(players[2][1])\n",
    "print(len(players))\n",
    "\n",
    "array = np.array(players)\n",
    "print(array)\n",
    "print(array.shape) # output = (4,2) - 4 rows and 2 columns.\n",
    "\n",
    "# dimension of the array\n",
    "print(array.ndim) # output - 2\n",
    "\n",
    "# datatype of elements in the array\n",
    "print(array.dtype)"
   ]
  },
  {
   "cell_type": "markdown",
   "id": "70e6ff71-18ed-4576-b647-6b52951277fd",
   "metadata": {},
   "source": [
    "## multiplication of 2D arrays"
   ]
  },
  {
   "cell_type": "code",
   "execution_count": 6,
   "id": "59e7dcb7-7814-4219-8e9d-5e9a9a724696",
   "metadata": {},
   "outputs": [
    {
     "name": "stdout",
     "output_type": "stream",
     "text": [
      "[[189 338]\n",
      " [210 378]\n",
      " [258 360]\n",
      " [135 260]]\n"
     ]
    }
   ],
   "source": [
    "# multiplying the first column with 3 and second column with 2\n",
    "\n",
    "multiplied_array = array * [3,2]\n",
    "print(multiplied_array)"
   ]
  },
  {
   "cell_type": "markdown",
   "id": "34a0dd3b-be88-4afe-8496-94a6aa8c6b1f",
   "metadata": {},
   "source": [
    "## accessing elements of arrays"
   ]
  },
  {
   "cell_type": "code",
   "execution_count": 7,
   "id": "870bf54a-2157-4270-b1f0-ba797ded8474",
   "metadata": {},
   "outputs": [
    {
     "name": "stdout",
     "output_type": "stream",
     "text": [
      "[ 63 169]\n",
      "169\n",
      "[63 70 86 45]\n"
     ]
    }
   ],
   "source": [
    "# accessing the first row\n",
    "print(array[0])\n",
    "\n",
    "# accessing the second element of the first row\n",
    "print(array[0][1])\n",
    "\n",
    "# accessing the first column\n",
    "print(array[:,0])"
   ]
  },
  {
   "cell_type": "code",
   "execution_count": 8,
   "id": "78f3bfd6-ac65-474b-899e-328d6605cb31",
   "metadata": {},
   "outputs": [
    {
     "name": "stdout",
     "output_type": "stream",
     "text": [
      "[False  True  True False]\n",
      "[[ 70 189]\n",
      " [ 86 180]]\n",
      "(2, 2)\n"
     ]
    }
   ],
   "source": [
    "# fetching the players who have height greater than 170\n",
    "new_array = array[:,1] > 170 # this creates a boolean array marking true for all the values satifying the condition and false otherwise.\n",
    "print(new_array)\n",
    "\n",
    "new_array1 = array[array[:,1] > 170] # fetches the values which are true in the previous step\n",
    "print(new_array1)\n",
    "\n",
    "print(new_array1.shape)"
   ]
  },
  {
   "cell_type": "code",
   "execution_count": 9,
   "id": "fd9eaa0d-56a2-46a2-be13-68188a9174e2",
   "metadata": {},
   "outputs": [
    {
     "name": "stdout",
     "output_type": "stream",
     "text": [
      "['batsman' 'bowler' 'batsman' 'bowler']\n",
      "[[ 63 169]\n",
      " [ 86 180]]\n"
     ]
    }
   ],
   "source": [
    "skill = ['batsman', 'bowler', 'batsman','bowler']\n",
    "skill_array = np.array(skill) # size of the skill_array and the 'array' array should be same because we will be applying operations on them together\n",
    "print(skill_array)\n",
    "# fetch the height of all players who are batsman\n",
    "batsman_array = array[skill_array == 'batsman']\n",
    "print(batsman_array)"
   ]
  },
  {
   "cell_type": "markdown",
   "id": "dd953cac-3d71-40ca-967f-8d71938959bc",
   "metadata": {},
   "source": [
    "## help function"
   ]
  },
  {
   "cell_type": "code",
   "execution_count": 10,
   "id": "51f50020-c488-478a-a609-8886b3dd2dde",
   "metadata": {},
   "outputs": [
    {
     "name": "stdout",
     "output_type": "stream",
     "text": [
      "Help on function ones in module numpy:\n",
      "\n",
      "ones(shape, dtype=None, order='C', *, like=None)\n",
      "    Return a new array of given shape and type, filled with ones.\n",
      "    \n",
      "    Parameters\n",
      "    ----------\n",
      "    shape : int or sequence of ints\n",
      "        Shape of the new array, e.g., ``(2, 3)`` or ``2``.\n",
      "    dtype : data-type, optional\n",
      "        The desired data-type for the array, e.g., `numpy.int8`.  Default is\n",
      "        `numpy.float64`.\n",
      "    order : {'C', 'F'}, optional, default: C\n",
      "        Whether to store multi-dimensional data in row-major\n",
      "        (C-style) or column-major (Fortran-style) order in\n",
      "        memory.\n",
      "    like : array_like, optional\n",
      "        Reference object to allow the creation of arrays which are not\n",
      "        NumPy arrays. If an array-like passed in as ``like`` supports\n",
      "        the ``__array_function__`` protocol, the result will be defined\n",
      "        by it. In this case, it ensures the creation of an array object\n",
      "        compatible with that passed in via this argument.\n",
      "    \n",
      "        .. versionadded:: 1.20.0\n",
      "    \n",
      "    Returns\n",
      "    -------\n",
      "    out : ndarray\n",
      "        Array of ones with the given shape, dtype, and order.\n",
      "    \n",
      "    See Also\n",
      "    --------\n",
      "    ones_like : Return an array of ones with shape and type of input.\n",
      "    empty : Return a new uninitialized array.\n",
      "    zeros : Return a new array setting values to zero.\n",
      "    full : Return a new array of given shape filled with value.\n",
      "    \n",
      "    \n",
      "    Examples\n",
      "    --------\n",
      "    >>> np.ones(5)\n",
      "    array([1., 1., 1., 1., 1.])\n",
      "    \n",
      "    >>> np.ones((5,), dtype=int)\n",
      "    array([1, 1, 1, 1, 1])\n",
      "    \n",
      "    >>> np.ones((2, 1))\n",
      "    array([[1.],\n",
      "           [1.]])\n",
      "    \n",
      "    >>> s = (2,2)\n",
      "    >>> np.ones(s)\n",
      "    array([[1.,  1.],\n",
      "           [1.,  1.]])\n",
      "\n"
     ]
    }
   ],
   "source": [
    "# use help function whenever you are stuck anywhere, it tells the use of the function you mention in it \n",
    "help(np.ones) # tells what does the np.ones function does"
   ]
  },
  {
   "cell_type": "markdown",
   "id": "2b96a0d2-552e-4a33-8cee-529ccfb7994e",
   "metadata": {},
   "source": [
    "## creating a 1D array"
   ]
  },
  {
   "cell_type": "code",
   "execution_count": 11,
   "id": "97df26f6-0d43-4df7-a02a-fd72c6209b37",
   "metadata": {},
   "outputs": [
    {
     "name": "stdout",
     "output_type": "stream",
     "text": [
      "[1. 1. 1. 1. 1.]\n",
      "float64\n",
      "[1 1 1 1 1 1]\n",
      "2d array - \n",
      "[[1. 1. 1. 1.]\n",
      " [1. 1. 1. 1.]\n",
      " [1. 1. 1. 1.]\n",
      " [1. 1. 1. 1.]\n",
      " [1. 1. 1. 1.]\n",
      " [1. 1. 1. 1.]]\n"
     ]
    }
   ],
   "source": [
    "# creating a 1D array with all 1s \n",
    "arr = np.ones(5)\n",
    "print(arr)\n",
    "\n",
    "print(arr.dtype) # output - float, by default the array created is of float type so if you want the array to be of some other datatype \n",
    "                          # you have to mention it explicitly\n",
    "\n",
    "arr_int = np.ones(6,dtype = int)\n",
    "print(arr_int)\n",
    "\n",
    "# creating a 2D array\n",
    "arr_2d = np.ones((6,4))\n",
    "print('2d array - ')\n",
    "print(arr_2d)"
   ]
  },
  {
   "cell_type": "code",
   "execution_count": 12,
   "id": "b3e51a6a-f6b5-4f53-a9a2-e57c7da14b80",
   "metadata": {},
   "outputs": [
    {
     "name": "stdout",
     "output_type": "stream",
     "text": [
      "[0. 0. 0. 0. 0.]\n",
      "[0 0 0 0 0 0]\n"
     ]
    }
   ],
   "source": [
    "# creating a 1D array with all 0s. Everything is same just the function is different.\n",
    "\n",
    "arr = np.zeros(5)\n",
    "print(arr)\n",
    "\n",
    "arr_int = np.zeros(6,dtype = int)\n",
    "print(arr_int)\n"
   ]
  },
  {
   "cell_type": "markdown",
   "id": "f297ad7d-fdcc-4b32-917e-9f18397f0096",
   "metadata": {},
   "source": [
    "## creating a list"
   ]
  },
  {
   "cell_type": "code",
   "execution_count": 13,
   "id": "61dcba44-0509-486a-8c2a-27e2a4bffa12",
   "metadata": {},
   "outputs": [
    {
     "data": {
      "text/plain": [
       "[1, 2, 3, 4]"
      ]
     },
     "execution_count": 13,
     "metadata": {},
     "output_type": "execute_result"
    }
   ],
   "source": [
    "# create a list from a range L to R-1\n",
    "list(range(1,5)) # creates a list from 1 to 4"
   ]
  },
  {
   "cell_type": "markdown",
   "id": "69e5b5e6-8d7f-443e-b202-ab5a29e12431",
   "metadata": {},
   "source": [
    "## creating an array using arange function"
   ]
  },
  {
   "cell_type": "code",
   "execution_count": 14,
   "id": "fdce471a-fe56-4d58-b413-31e2fd017a88",
   "metadata": {},
   "outputs": [
    {
     "name": "stdout",
     "output_type": "stream",
     "text": [
      "[0 1 2 3 4]\n",
      "[4 6 8]\n"
     ]
    }
   ],
   "source": [
    "# create an array from range 0 to n-1\n",
    "array3 = np.arange(5)\n",
    "print(array3)\n",
    "\n",
    "# np.arange(start, end(not included), step size)\n",
    "array4 = np.arange(4,10,2)\n",
    "print(array4)"
   ]
  },
  {
   "cell_type": "markdown",
   "id": "8dab0cee-c3cc-4af2-9299-a8d9d94da2f4",
   "metadata": {},
   "source": [
    "## random function"
   ]
  },
  {
   "cell_type": "code",
   "execution_count": 15,
   "id": "ceca1b50-e278-4035-a40e-7929916a4fb4",
   "metadata": {},
   "outputs": [
    {
     "name": "stdout",
     "output_type": "stream",
     "text": [
      "[1 0 3 3 4 4 3 3 3 2]\n",
      "[4 3 3 3 3 5 4 5 4 5]\n"
     ]
    }
   ],
   "source": [
    "# random function 1D array\n",
    "# create an array using integers in the range L to R(not included)\n",
    "array1 = np.random.randint(5,size = 10) # creates an array using integers in the range 0 to 5(not included) of size = 10\n",
    "print(array1)\n",
    "\n",
    "# create an array using integers in the range L to R(not included)\n",
    "array2 = np.random.randint(3,6,size = 10) # creates an array using integers from 3 to 6(not included) of size = 10\n",
    "print(array2)"
   ]
  },
  {
   "cell_type": "code",
   "execution_count": 16,
   "id": "363365af-1b94-4bab-984e-e5a8e8b90c60",
   "metadata": {},
   "outputs": [
    {
     "data": {
      "text/plain": [
       "array([[0.08591892, 0.85808647, 0.65943059, 0.91313623],\n",
       "       [0.43579853, 0.86974801, 0.35852016, 0.59842332],\n",
       "       [0.50311744, 0.67102536, 0.78244387, 0.88897655]])"
      ]
     },
     "execution_count": 16,
     "metadata": {},
     "output_type": "execute_result"
    }
   ],
   "source": [
    "# random function 2D array\n",
    "np.random.random([3,4]) # 3 is the number of rows and 4 is the number of columns"
   ]
  },
  {
   "cell_type": "markdown",
   "id": "20a50aff-3fd2-4ae1-b9a9-c0cad3d7be65",
   "metadata": {},
   "source": [
    "## Note - the shape and dimension of the arrays should be same to apply the operation\n"
   ]
  },
  {
   "cell_type": "markdown",
   "id": "69f56070-f5e6-4b1a-a4cd-2818d3dde391",
   "metadata": {},
   "source": [
    "## Stacking Arrays"
   ]
  },
  {
   "cell_type": "code",
   "execution_count": 17,
   "id": "5a11fc67-2267-4247-9b7a-dba54a2171a1",
   "metadata": {},
   "outputs": [
    {
     "data": {
      "text/plain": [
       "array([1, 2, 3, 2, 3, 4])"
      ]
     },
     "execution_count": 17,
     "metadata": {},
     "output_type": "execute_result"
    }
   ],
   "source": [
    "# Stacking arrays\n",
    "\n",
    "#hstack()-horizontal stack\n",
    "#vstack()-vertical stack\n",
    "a = np.array([1,2,3])\n",
    "b = np.array([2,3,4])\n",
    "np.hstack((a,b))"
   ]
  },
  {
   "cell_type": "code",
   "execution_count": 18,
   "id": "3733d693-d2e5-4741-af35-693d693b584c",
   "metadata": {},
   "outputs": [
    {
     "data": {
      "text/plain": [
       "array([[1, 2, 3],\n",
       "       [2, 3, 4]])"
      ]
     },
     "execution_count": 18,
     "metadata": {},
     "output_type": "execute_result"
    }
   ],
   "source": [
    "np.vstack((a,b))"
   ]
  },
  {
   "cell_type": "code",
   "execution_count": 19,
   "id": "3a548364-ac45-454d-b129-b90ceddc1339",
   "metadata": {},
   "outputs": [
    {
     "data": {
      "text/plain": [
       "array([[ 0,  1,  2,  3],\n",
       "       [ 4,  5,  6,  7],\n",
       "       [ 8,  9, 10, 11],\n",
       "       [ 0,  1,  2,  3],\n",
       "       [ 4,  5,  6,  7],\n",
       "       [ 8,  9, 10, 11],\n",
       "       [12, 13, 14, 15],\n",
       "       [16, 17, 18, 19]])"
      ]
     },
     "execution_count": 19,
     "metadata": {},
     "output_type": "execute_result"
    }
   ],
   "source": [
    "array5 = np.arange(12).reshape(3,4) # 3*4\n",
    "array6 = np.arange(20).reshape(5,4) # 5*4\n",
    "\n",
    "np.vstack((array5,array6))"
   ]
  },
  {
   "cell_type": "markdown",
   "id": "36e522ac-b075-4c1c-8856-2c6aa0370b3b",
   "metadata": {},
   "source": [
    "## power function"
   ]
  },
  {
   "cell_type": "code",
   "execution_count": 20,
   "id": "2a3f7fd6-622b-414d-a742-6ce6ed273a42",
   "metadata": {},
   "outputs": [
    {
     "data": {
      "text/plain": [
       "array([[  0,   1,   4,   9],\n",
       "       [ 16,  25,  36,  49],\n",
       "       [ 64,  81, 100, 121]], dtype=int32)"
      ]
     },
     "execution_count": 20,
     "metadata": {},
     "output_type": "execute_result"
    }
   ],
   "source": [
    "# power function for exponential operation\n",
    "np.power(array5,2) # power 2 of all the elements of array5"
   ]
  },
  {
   "cell_type": "markdown",
   "id": "409c0c43-e16b-43c5-a4d3-cb9347ea9ff8",
   "metadata": {},
   "source": [
    "## absolute function"
   ]
  },
  {
   "cell_type": "code",
   "execution_count": 21,
   "id": "c71bae15-f66a-4e93-a353-0a277eaeed87",
   "metadata": {},
   "outputs": [
    {
     "name": "stdout",
     "output_type": "stream",
     "text": [
      "[ 1  4  3  0 66]\n",
      "[ 1  4  3  0 66]\n"
     ]
    }
   ],
   "source": [
    "# converting a negetive array into positive using abs or absolute function\n",
    "neg_array = np.array([-1,-4,3,0,-66])\n",
    "\n",
    "print(abs(neg_array))\n",
    "# or\n",
    "print(np.absolute(neg_array))"
   ]
  }
 ],
 "metadata": {
  "kernelspec": {
   "display_name": "Python 3 (ipykernel)",
   "language": "python",
   "name": "python3"
  },
  "language_info": {
   "codemirror_mode": {
    "name": "ipython",
    "version": 3
   },
   "file_extension": ".py",
   "mimetype": "text/x-python",
   "name": "python",
   "nbconvert_exporter": "python",
   "pygments_lexer": "ipython3",
   "version": "3.11.4"
  }
 },
 "nbformat": 4,
 "nbformat_minor": 5
}
