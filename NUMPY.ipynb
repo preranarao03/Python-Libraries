{
 "cells": [
  {
   "cell_type": "code",
   "execution_count": 1,
   "id": "12b2c978",
   "metadata": {},
   "outputs": [],
   "source": [
    "import numpy as np"
   ]
  },
  {
   "cell_type": "code",
   "execution_count": 4,
   "id": "b7674989",
   "metadata": {},
   "outputs": [
    {
     "name": "stdout",
     "output_type": "stream",
     "text": [
      "[10 20 30 40]\n",
      "<class 'numpy.ndarray'>\n"
     ]
    }
   ],
   "source": [
    "arr=np.array([10,20,30,40])\n",
    "print(arr)\n",
    "#numpy array, the elements are not comma separated\n",
    "print(type(arr))"
   ]
  },
  {
   "cell_type": "code",
   "execution_count": 7,
   "id": "5151a066",
   "metadata": {},
   "outputs": [
    {
     "name": "stdout",
     "output_type": "stream",
     "text": [
      "[[1 2 3]\n",
      " [4 5 6]]\n"
     ]
    }
   ],
   "source": [
    "#you can also create a multi dimensional array (like matrix)\n",
    "arr=np.array([[1,2,3],[4,5,6]])\n",
    "print(arr)"
   ]
  },
  {
   "cell_type": "code",
   "execution_count": 8,
   "id": "2102656a",
   "metadata": {},
   "outputs": [
    {
     "ename": "ValueError",
     "evalue": "setting an array element with a sequence. The requested array has an inhomogeneous shape after 1 dimensions. The detected shape was (2,) + inhomogeneous part.",
     "output_type": "error",
     "traceback": [
      "\u001b[0;31m---------------------------------------------------------------------------\u001b[0m",
      "\u001b[0;31mValueError\u001b[0m                                Traceback (most recent call last)",
      "Cell \u001b[0;32mIn[8], line 3\u001b[0m\n\u001b[1;32m      1\u001b[0m \u001b[38;5;66;03m#but make sure each row has same number of elements\u001b[39;00m\n\u001b[1;32m      2\u001b[0m \u001b[38;5;66;03m#example-\u001b[39;00m\n\u001b[0;32m----> 3\u001b[0m arr\u001b[38;5;241m=\u001b[39mnp\u001b[38;5;241m.\u001b[39marray([[\u001b[38;5;241m1\u001b[39m,\u001b[38;5;241m2\u001b[39m,\u001b[38;5;241m3\u001b[39m],[\u001b[38;5;241m4\u001b[39m,\u001b[38;5;241m5\u001b[39m]])\n\u001b[1;32m      4\u001b[0m \u001b[38;5;28mprint\u001b[39m(arr)\n",
      "\u001b[0;31mValueError\u001b[0m: setting an array element with a sequence. The requested array has an inhomogeneous shape after 1 dimensions. The detected shape was (2,) + inhomogeneous part."
     ]
    }
   ],
   "source": [
    "#but make sure each row has same number of elements\n",
    "#example-\n",
    "arr=np.array([[1,2,3],[4,5]]) #will show error\n",
    "print(arr)"
   ]
  },
  {
   "cell_type": "code",
   "execution_count": 12,
   "id": "5f28866c",
   "metadata": {},
   "outputs": [
    {
     "name": "stdout",
     "output_type": "stream",
     "text": [
      "[1 2 3]\n",
      "[1 2 3 4]\n",
      "[3 4]\n",
      "[1 2 3]\n"
     ]
    }
   ],
   "source": [
    "#SLICING\n",
    "#used to get the specific elements\n",
    "arr=np.array([1,2,3,4])\n",
    "print(arr[0:3]) #will return elements of indices 0,1,2\n",
    "print(arr[0:]) #will return elements from index 0 onwards to all the indices\n",
    "print(arr[2:]) #will return elements from index 3 onwards\n",
    "#you can also specify the ending point till which you want to return all the elements\n",
    "print(arr[:3]) #will print elements of index 0,1,2"
   ]
  },
  {
   "cell_type": "code",
   "execution_count": 18,
   "id": "200dce9b",
   "metadata": {},
   "outputs": [
    {
     "name": "stdout",
     "output_type": "stream",
     "text": [
      "[[10 20]\n",
      " [50 60]]\n",
      "[[10 20 30]\n",
      " [50 60 70]]\n",
      "[20 30 40]\n",
      "70\n"
     ]
    }
   ],
   "source": [
    "#SLICING IN MULTI-DIMENSIONAL ARRAYS\n",
    "#example-\n",
    "arr=np.array([[10,20,30,40],[50,60,70,80]])\n",
    "print(arr[0:2,0:2]) #specify which elements you want from each array-row\n",
    "\n",
    "# in above array we want the the first 2 elements from both arrays\n",
    "print(arr[0:2,0:3]) #from both arrays 3 elements will be returned (arrays should be equal)\n",
    "\n",
    "#if you want specific elements from a specific array\n",
    "print(arr[0,1:4]) #from the zeroth(first) array you want elements from indices 1 to 3\n",
    "print(arr[1,2]) #from the second array you want to print index 2 value"
   ]
  },
  {
   "cell_type": "code",
   "execution_count": 27,
   "id": "48802fb6",
   "metadata": {},
   "outputs": [
    {
     "name": "stdout",
     "output_type": "stream",
     "text": [
      "[[10 20 30 40]\n",
      " [50 60 60 80]]\n",
      " \n",
      "(2, 4)\n",
      "8\n",
      "2\n",
      "int64\n"
     ]
    }
   ],
   "source": [
    "#ATTRIBUTES\n",
    "arr=np.array([[10,20,30,40],[50,60,60,80]])\n",
    "print(arr)\n",
    "print(\" \")\n",
    "#to get the shape of the matrix (no. of rows and columns)\n",
    "print(np.shape(arr)) # (2,4) -> 2 rows and 4 columns\n",
    "\n",
    "#to get the total number of elements in the array\n",
    "print(np.size(arr)) # 2*4 -> 8 elements\n",
    "\n",
    "#to get the number of dimensions of the matrix\n",
    "print(np.ndim(arr)) #matrix has rows and columns -> 2D matrix\n",
    "\n",
    "#to get the datatype of the elements in the matrix\n",
    "print(arr.dtype) #the elements are integers -> int64"
   ]
  },
  {
   "cell_type": "code",
   "execution_count": 39,
   "id": "658bce50",
   "metadata": {},
   "outputs": [
    {
     "name": "stdout",
     "output_type": "stream",
     "text": [
      "[30 40 20 40 30]\n",
      "(5,)\n",
      "5\n",
      "5\n",
      "<class 'numpy.ndarray'>\n",
      "int64\n",
      "[30. 40. 20. 40. 30.]\n",
      "['30' '40' '20' '40' '30']\n"
     ]
    }
   ],
   "source": [
    "#INSPECTING AN ARRAY\n",
    "a=[30,40,20,40,30]\n",
    "arr=np.array(a) #you can make a list and then pass that to create numpy array\n",
    "print(arr)\n",
    "#to get the shape of the matrix (no. of rows and columns)\n",
    "print(arr.shape) #(5,) -> 5 rows, 0 cols\n",
    "\n",
    "#to get the number of nested values\n",
    "print(len(arr))\n",
    "\n",
    "#to get the number of elements in the array\n",
    "print(arr.size) #no. of elements in the array\n",
    "\n",
    "#to get the datatype of array\n",
    "print(type(arr)) #this is a numpy array\n",
    "\n",
    "#to get the datatype of elements in the array\n",
    "print(arr.dtype)\n",
    "\n",
    "#to change the datatype of the element\n",
    "print(arr.astype(float)) #the datatype is converted to float\n",
    "print(arr.astype(str)) #datatype is converted to string\n"
   ]
  },
  {
   "cell_type": "code",
   "execution_count": 49,
   "id": "551340f3",
   "metadata": {},
   "outputs": [
    {
     "name": "stdout",
     "output_type": "stream",
     "text": [
      " \n",
      "[60 60 70 40 30]\n",
      "[60 60 70 40 30]\n",
      " \n",
      "[  0  20  50   0 -10]\n",
      "[  0  20  50   0 -10]\n",
      " \n",
      "[900 800 600 400 200]\n",
      "[900 800 600 400 200]\n",
      " \n",
      "[1.  2.  6.  1.  0.5]\n",
      "[1.  2.  6.  1.  0.5]\n",
      " \n",
      "[ 1  8 27 64]\n",
      " \n",
      "[5.19615242 8.         2.         3.        ]\n"
     ]
    }
   ],
   "source": [
    "#MATHEMATICAL OPRATIONS AND FUNCTIONS ON ARRAYS\n",
    "#consider the arrays \n",
    "arr1=np.array([30,40,60,20,10])\n",
    "arr2=np.array([30,20,10,20,20])\n",
    "print(\" \")\n",
    "\n",
    "#to print the addition of arrays\n",
    "print(arr1+arr2)\n",
    "#alternative way is to use np.add\n",
    "print(np.add(arr1,arr2))\n",
    "print(\" \")\n",
    "\n",
    "#to print the subtraction of arrays\n",
    "print(arr1-arr2)\n",
    "#alternative way is to use np.subtract\n",
    "print(np.subtract(arr1,arr2))\n",
    "print(\" \")\n",
    "\n",
    "#to print the multiplication of arrays\n",
    "print(arr1*arr2)\n",
    "#alternative way is to use np.multiply\n",
    "print(np.multiply(arr1,arr2))\n",
    "print(\" \")\n",
    "\n",
    "#to print the division of arrays\n",
    "print(arr1/arr2)\n",
    "#alternative way is to use np.divide\n",
    "print(np.divide(arr1,arr2))\n",
    "print(\" \")\n",
    "\n",
    "#to convert elements to their power of another number\n",
    "arr1=([1,2,3,4])\n",
    "arr2=np.array([3])\n",
    "print(np.power(arr1,arr2)) #arr1 elements are raised to the power of element in arr2\n",
    "print(\" \")\n",
    "\n",
    "#to find the square-root of elements\n",
    "arr1=np.array([27,64,4,9])\n",
    "print(np.sqrt(arr1))"
   ]
  },
  {
   "cell_type": "code",
   "execution_count": 52,
   "id": "6bde1b72",
   "metadata": {},
   "outputs": [
    {
     "name": "stdout",
     "output_type": "stream",
     "text": [
      "[1 2 3 4 5 6 7 8]\n"
     ]
    }
   ],
   "source": [
    "#COMBINING AND SPLITTING ARRAYS\n",
    "#to concatinate arrays in numpy we cannot simply use '+' operator\n",
    "#'+' operator will denote mathematical addition in NUMPY\n",
    "#instead np.concatenate is used\n",
    "\n",
    "arr1=np.array([1,2,3,4])\n",
    "arr2=np.array([5,6,7,8])\n",
    "print(np.concatenate([arr1,arr2]))"
   ]
  },
  {
   "cell_type": "code",
   "execution_count": 57,
   "id": "1fc39723",
   "metadata": {},
   "outputs": [
    {
     "name": "stdout",
     "output_type": "stream",
     "text": [
      "[[1 2 3 4]\n",
      " [5 6 7 8]\n",
      " [5 6 7 8]\n",
      " [1 2 3 4]]\n",
      " \n",
      "[[1 2 3 4 5 6 7 8]\n",
      " [5 6 7 8 1 2 3 4]]\n"
     ]
    }
   ],
   "source": [
    "#in numpy there are 2 axes (horizontal and vertical)\n",
    "#axis=0 refers to horizontal concatination\n",
    "#axis=1 refers to vertical concatination\n",
    "\n",
    "arr1=np.array([[1,2,3,4],[5,6,7,8]])\n",
    "arr2=np.array([[5,6,7,8],[1,2,3,4]])\n",
    "print(np.concatenate(([arr1,arr2]),axis=0))\n",
    "print(\" \")\n",
    "print(np.concatenate(([arr1,arr2]),axis=1))\n"
   ]
  },
  {
   "cell_type": "code",
   "execution_count": 60,
   "id": "705b38a5",
   "metadata": {},
   "outputs": [
    {
     "name": "stdout",
     "output_type": "stream",
     "text": [
      "[[1 2 3 4 5 6 7 8]\n",
      " [5 6 7 8 1 2 3 4]]\n",
      " \n",
      "[[1 2 3 4]\n",
      " [5 6 7 8]\n",
      " [5 6 7 8]\n",
      " [1 2 3 4]]\n"
     ]
    }
   ],
   "source": [
    "#another method to do horizontal concatenation stack is by using np.hstack\n",
    "arr1=np.array([[1,2,3,4],[5,6,7,8]])\n",
    "arr2=np.array([[5,6,7,8],[1,2,3,4]])\n",
    "print(np.hstack([arr1,arr2]))\n",
    "print(\" \")\n",
    "\n",
    "#another method to do vertical concatenation stack is by using np.vstack\n",
    "print(np.vstack([arr1,arr2]))"
   ]
  },
  {
   "cell_type": "code",
   "execution_count": 64,
   "id": "6b6370d1",
   "metadata": {},
   "outputs": [
    {
     "name": "stdout",
     "output_type": "stream",
     "text": [
      "[array([1, 2]), array([3, 4]), array([5, 6])]\n"
     ]
    }
   ],
   "source": [
    "#to split an array into a given number use np.array_split\n",
    "a=np.array([1,2,3,4,5,6])\n",
    "print(np.array_split(a,3)) #argument is the np.array and the number of splits we want\n"
   ]
  },
  {
   "cell_type": "code",
   "execution_count": 72,
   "id": "72678da7",
   "metadata": {},
   "outputs": [
    {
     "name": "stdout",
     "output_type": "stream",
     "text": [
      "[20 30 40 50 90]\n",
      "[ 1  2  3  4  5  6 78]\n",
      " \n",
      "[ 1 50  2  3  4  5]\n",
      " \n",
      "[1 2 3 5]\n"
     ]
    }
   ],
   "source": [
    "#ADDING AND REMOVING ELEMENTS IN ARRAYS\n",
    "#np.append() - appends items to array\n",
    "#np.insert() - inserts items into an array\n",
    "#np.delete() - deletes items from array\n",
    "\n",
    "a=np.array([20,30,40,50])\n",
    "#to append element\n",
    "print(np.append(a,90))\n",
    "#if we want to append to 2-D matrix\n",
    "a=np.array([[1,2,3],[4,5,6]])\n",
    "print(np.append(a,78)) #first the 2-D matrix is converted to a 1-D array then the element is appended\n",
    "print(\" \") #array,value\n",
    "\n",
    "#to insert element\n",
    "#suppose we want to insert 50 at the 1th index\n",
    "a=np.array([1,2,3,4,5])\n",
    "print(np.insert(a,1,50)) #array,index,value\n",
    "print(\" \")\n",
    "\n",
    "#to delete element\n",
    "a=np.array([1,2,3,4,5])\n",
    "print(np.delete(a,3)) #array,index"
   ]
  },
  {
   "cell_type": "code",
   "execution_count": 79,
   "id": "7d8858f6",
   "metadata": {},
   "outputs": [
    {
     "name": "stdout",
     "output_type": "stream",
     "text": [
      "[0 1 3 3]\n",
      " \n",
      "(array([1]),)\n",
      "(array([3]),)\n",
      " \n",
      "2\n",
      " \n"
     ]
    }
   ],
   "source": [
    "#NUMPY SORT, FILTER & SEARCH\n",
    "arr=np.array([1,3,3,0])\n",
    "#to sort the arrayv use np.sort\n",
    "print(np.sort(arr))\n",
    "print(\" \")\n",
    "\n",
    "#to search for an element use np.where\n",
    "arr=np.array([1,5,3,0])\n",
    "s=np.where(arr==5) #enter the element you want to search for \n",
    "print(s) #this will print the index of that element we are searching for\n",
    "\n",
    "#example - we want to find those elements which are even\n",
    "s=np.where(arr%2==0)\n",
    "print(s)\n",
    "print(\" \") \n",
    "\n",
    "#to search for an element in a sorted array use np.searchsorted\n",
    "arr=np.array([0,1,5,6,10])\n",
    "ss=np.searchsorted(arr,5) #array,element we want to search\n",
    "print(ss)\n",
    "print(\" \")\n",
    "\n",
    "#filter\n"
   ]
  },
  {
   "cell_type": "code",
   "execution_count": 88,
   "id": "e3e3db52",
   "metadata": {},
   "outputs": [
    {
     "name": "stdout",
     "output_type": "stream",
     "text": [
      "190\n",
      " \n",
      "20\n",
      " \n",
      "70\n",
      " \n",
      "47.5\n",
      " \n",
      "[ 20  60 120 190]\n",
      " \n",
      "[     20     800   48000 3360000]\n",
      " \n"
     ]
    }
   ],
   "source": [
    "#AGGREGATING FUNCTIONS IN ARRAYS\n",
    "arr=np.array([20,40,60,70])\n",
    "\n",
    "#to find sum of the elements\n",
    "print(np.sum(arr))\n",
    "print(\" \")\n",
    "\n",
    "#to find the min value in array\n",
    "print(np.min(arr))\n",
    "print(\" \")\n",
    "\n",
    "#to find the max value in array\n",
    "print(np.max(arr))\n",
    "print(\" \")\n",
    "\n",
    "#to find mean of all elements\n",
    "print(np.mean(arr))\n",
    "print(\" \")\n",
    "\n",
    "#to find the cumulative sum\n",
    "print(np.cumsum(arr)) #step-wise addition\n",
    "print(\" \")\n",
    "\n",
    "#to find the cumulative product\n",
    "print(np.cumprod(arr)) #step-wise multiplication\n",
    "print(\" \")"
   ]
  },
  {
   "cell_type": "code",
   "execution_count": 97,
   "id": "8e9175c4",
   "metadata": {},
   "outputs": [
    {
     "name": "stdout",
     "output_type": "stream",
     "text": [
      "191.66666666666666\n",
      " \n",
      "185.0\n",
      " \n",
      "200\n",
      " \n",
      "54.594464513864004\n",
      " \n",
      "2980.555555555556\n"
     ]
    }
   ],
   "source": [
    "#STATISTICAL FUNCTIONS IN NUMPY\n",
    "import statistics as stats\n",
    "#example - \n",
    "baked_food = [200,300,150,130,200,170]\n",
    "a=np.array(baked_food)\n",
    "print(np.mean(a)) #to get mean of the values (sum of all values/number of values)\n",
    "print(\" \")\n",
    "\n",
    "print(np.median(a)) #to get median value (central value after sorting)\n",
    "print(\" \")\n",
    "\n",
    "print(stats.mode(a)) #mode function will come uder statistics library\n",
    "print(\" \")\n",
    "\n",
    "print(np.std(a)) #to get the standard deviation (tell us by how much values differ by mean value)\n",
    "print(\" \")\n",
    "\n",
    "print(np.var(a)) #variance = (standard deviation)^2"
   ]
  },
  {
   "cell_type": "code",
   "execution_count": 99,
   "id": "c3069fb6",
   "metadata": {},
   "outputs": [
    {
     "name": "stdout",
     "output_type": "stream",
     "text": [
      "[[1.         0.99015454]\n",
      " [0.99015454 1.        ]]\n"
     ]
    }
   ],
   "source": [
    "#example -\n",
    "tobacco_consumption=[30,50,10,30,50,40]\n",
    "deaths=[100,120,70,100,120,112]\n",
    "\n",
    "print(np.corrcoef([tobacco_consumption,deaths])) #to get the correlation coeeficient\n",
    "\n",
    "#correlation coeefeicient lies between -1 to +1\n",
    "# -1 represents inversly proportional relationship\n",
    "# 1 represents proportional relationship\n",
    "# 0 means no relationship"
   ]
  },
  {
   "cell_type": "code",
   "execution_count": null,
   "id": "3c499ae4",
   "metadata": {},
   "outputs": [],
   "source": []
  }
 ],
 "metadata": {
  "kernelspec": {
   "display_name": "Python 3 (ipykernel)",
   "language": "python",
   "name": "python3"
  },
  "language_info": {
   "codemirror_mode": {
    "name": "ipython",
    "version": 3
   },
   "file_extension": ".py",
   "mimetype": "text/x-python",
   "name": "python",
   "nbconvert_exporter": "python",
   "pygments_lexer": "ipython3",
   "version": "3.11.5"
  }
 },
 "nbformat": 4,
 "nbformat_minor": 5
}
